{
 "cells": [
  {
   "cell_type": "markdown",
   "metadata": {},
   "source": [
    "### Import"
   ]
  },
  {
   "cell_type": "code",
   "execution_count": 1,
   "metadata": {},
   "outputs": [],
   "source": [
    "import mne\n",
    "import os\n",
    "import pandas as pd\n",
    "from scipy.io import loadmat"
   ]
  },
  {
   "cell_type": "code",
   "execution_count": 3,
   "metadata": {},
   "outputs": [],
   "source": [
    "text = pd.read_csv('readme.txt', sep = '\\t')"
   ]
  },
  {
   "cell_type": "markdown",
   "metadata": {},
   "source": [
    "Function to extract data from .mat files, resample data that was sample at 256 Hz at 128 Hz, and return in mne format."
   ]
  },
  {
   "cell_type": "code",
   "execution_count": 4,
   "metadata": {},
   "outputs": [],
   "source": [
    "def get_data2(filepath, n_channels=19, chan_names = [\"Fp1\", \"Fp2\", \"F7\", \"Fz\", \"F3\", \"F4\", \"F8\", \"T3\", \"C3\", \"Cz\", \"C4\", \"T4\", \"T5\", \"P3\", \"Pz\", \"P4\", \"T6\", \"O1\", \"O2\"]):\n",
    "    \"\"\"\n",
    "    Input:\n",
    "    filepath: path to the .mat file\n",
    "    n_channels: number of channels in the data\n",
    "    chan_names: names of the channels\n",
    "\n",
    "    Output:\n",
    "    info: mne.Info object\n",
    "    raw: mne.io.RawArray object\n",
    "    \"\"\"\n",
    "    dat = loadmat(filepath)\n",
    "    sfreq = int(text[text['AD or MCI or CONTROL'] == os.path.basename(os.path.dirname(file))]['sampling rate']) # get sampling frequency from readme.txt\n",
    "\n",
    "    # export data into mne format\n",
    "    try:\n",
    "        X = dat['export']\n",
    "        info = mne.create_info(ch_names=chan_names[0:20], sfreq=sfreq, ch_types= ['eeg']*n_channels)\n",
    "        info.set_montage('standard_1020')\n",
    "        raw = mne.io.RawArray(X.T, info, first_samp=0, copy='auto', verbose=None)\n",
    "        if info['sfreq'] == 256.0:\n",
    "            raw.resample(128, npad='auto') # resample to 128Hz\n",
    "    \n",
    "    except:\n",
    "        X = dat['segmenty']\n",
    "        info = mne.create_info(ch_names=chan_names[0:20], sfreq=sfreq, ch_types= ['eeg']*n_channels)\n",
    "        info.set_montage('standard_1020')\n",
    "        raw = mne.io.RawArray(X[0:19], info, first_samp=0, copy='auto', verbose=None)\n",
    "\n",
    "    return info, raw"
   ]
  },
  {
   "cell_type": "markdown",
   "metadata": {},
   "source": [
    "Multiple recording sessions for each particpant are combined into one. The data for each participant is split into equalized sessions of 49 seconds each. THe resulting .fif files are saved in the folder 'mne'.\n",
    "\n",
    "*Note*. AD and control subjects have multiple recording sessions, whereas control subjects with files ending with \"fir.mat\" have single recording sessions. Thus data extraction from the two differs. \n"
   ]
  },
  {
   "cell_type": "code",
   "execution_count": null,
   "metadata": {},
   "outputs": [],
   "source": [
    "data = pd.DataFrame()\n",
    "\n",
    "subfolders = [f.path for f in os.scandir('dataset2/data') if f.is_dir()]\n",
    "\n",
    "for name in subfolders:\n",
    "    children = [f.path for f in os.scandir(name) if f.is_file()]\n",
    "    if os.path.basename(name) != 'fir':\n",
    "        raw_dict={}\n",
    "        raw_out_dict={}\n",
    "        # combine different recording sessions for each subject\n",
    "        for n, file in enumerate(children):\n",
    "            raw_dict[f'info{n}'], raw_dict[f'raw{n}'] = get_data2(file)\n",
    "        if len(children) > 1:\n",
    "            raw = mne.concatenate_raws([raw_dict[f'raw{n}'].copy() for n in range(len(children))])\n",
    "        else:\n",
    "            raw = raw_dict['raw0'].copy()\n",
    "        #create output directory\n",
    "        if not os.path.exists(f'dataset2/data/mne'):\n",
    "            os.makedirs(f'dataset2/data/mne')\n",
    "        time_list = [i for i in range(1, int(len(raw)/128), 49)]\n",
    "        for n, i in enumerate(time_list[:-1]):\n",
    "            raw_out_dict[f'{n+1}'] = raw.copy().crop(i, time_list[n+1])\n",
    "            raw_out_dict[f'{n+1}'].save(f\"dataset2/data/mne/{os.path.basename(name)}_{n+1}_raw.fif\")\n",
    "            temp_df = pd.DataFrame(raw_out_dict[f'{n+1}']._data.T, columns=raw_out_dict[f'{n+1}'].ch_names)\n",
    "            temp_df['subject'] = f'{os.path.basename(name)}_{n+1}'\n",
    "            temp_df['time'] = raw_out_dict[f'{n+1}'].times\n",
    "            data = data.append(temp_df, ignore_index=True)\n",
    "    else:\n",
    "        for n, file in enumerate(children):\n",
    "            info, raw = get_data2(file)\n",
    "            #create output directory\n",
    "            if not os.path.exists(f'dataset2/data/mne'):\n",
    "                os.makedirs(f'dataset2/data/mne')\n",
    "            time_list = [i for i in range(1, int(len(raw)/128), 49)]\n",
    "            for n, i in enumerate(time_list[:-1]):\n",
    "                raw_out_dict[f'{n+1}'] = raw.copy().crop(i, time_list[n+1])\n",
    "                raw_out_dict[f'{n+1}'].save(f\"dataset2/data/mne/{os.path.basename(file[:-4])}_{n+1}_raw.fif\", overwrite=True)\n",
    "                temp_df = pd.DataFrame(raw_out_dict[f'{n+1}']._data.T, columns=raw_out_dict[f'{n+1}'].ch_names)\n",
    "                temp_df['subject'] = os.path.basename(file[:-4])\n",
    "                temp_df['time'] = raw_out_dict[f'{n+1}'].times\n",
    "                data = data.append(temp_df, ignore_index=True)\n",
    "    \n"
   ]
  },
  {
   "cell_type": "markdown",
   "metadata": {},
   "source": [
    "Save the data in csv format."
   ]
  },
  {
   "cell_type": "code",
   "execution_count": 12,
   "metadata": {},
   "outputs": [],
   "source": [
    "data.to_csv('dataset2/data/raw_mne_data.csv', index=False)"
   ]
  }
 ],
 "metadata": {
  "interpreter": {
   "hash": "e0ec93b3d0fa1f3b89952155c8ade2301ff66654fa6089af234d00caa4993717"
  },
  "kernelspec": {
   "display_name": "Python 3.9.9 64-bit ('mne': conda)",
   "language": "python",
   "name": "python3"
  },
  "language_info": {
   "codemirror_mode": {
    "name": "ipython",
    "version": 3
   },
   "file_extension": ".py",
   "mimetype": "text/x-python",
   "name": "python",
   "nbconvert_exporter": "python",
   "pygments_lexer": "ipython3",
   "version": "3.9.7"
  },
  "orig_nbformat": 4
 },
 "nbformat": 4,
 "nbformat_minor": 2
}
