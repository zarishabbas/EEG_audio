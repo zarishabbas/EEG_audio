{
 "cells": [
  {
   "cell_type": "code",
   "execution_count": null,
   "metadata": {},
   "outputs": [],
   "source": [
    "import librosa\n",
    "from PIL import Image\n",
    "import numpy as np\n",
    "import soundfile"
   ]
  },
  {
   "cell_type": "code",
   "execution_count": null,
   "metadata": {},
   "outputs": [],
   "source": [
    "#from tiff to wav \n",
    "m=Image.open(\"fig_name.tiff\") # open spectogram\n",
    "img=np.array(m) # convert to numpy array    \n",
    "im =Image.fromarray(img).convert('F') \n",
    "im.show()\n",
    "im.save(\"output_name.tiff\")\n",
    "\n",
    "soundfile.write(\"output_sound.wav\",wav,samplerate=128) # save wav file"
   ]
  },
  {
   "cell_type": "code",
   "execution_count": null,
   "metadata": {},
   "outputs": [],
   "source": []
  }
 ],
 "metadata": {
  "interpreter": {
   "hash": "58afbb7d962e7660668faae0d1e60dd294a2e58f05a6e81a1c08b8b128b82ce1"
  },
  "kernelspec": {
   "display_name": "Python 3.8.12 64-bit ('base': conda)",
   "language": "python",
   "name": "python3"
  },
  "language_info": {
   "codemirror_mode": {
    "name": "ipython",
    "version": 3
   },
   "file_extension": ".py",
   "mimetype": "text/x-python",
   "name": "python",
   "nbconvert_exporter": "python",
   "pygments_lexer": "ipython3",
   "version": "3.8.12"
  },
  "orig_nbformat": 4
 },
 "nbformat": 4,
 "nbformat_minor": 2
}
