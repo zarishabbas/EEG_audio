{
 "cells": [
  {
   "cell_type": "markdown",
   "metadata": {},
   "source": [
    "Two sets of data are created here:\n",
    "1. Filtered: The raw data is filtered by applying a low-pass filter(cutoff frequency of 45 Hz), a high-pass filter(cutoff frequency of 1 Hz) and a notch filter(cutoff frequency of 50 Hz).\n",
    "2. Unfiltered: The raw data is filtered by applying a high-pass filter(cutoff frequency of 1 Hz) and a notch filter(cutoff frequency of 50 Hz).\n",
    "\n",
    "Both os sets of data are then rereferenced to the averaged EEG data.\n",
    "\n",
    "Resulting data is saved as fif files, and pickled as a dataframe"
   ]
  },
  {
   "cell_type": "code",
   "execution_count": 1,
   "metadata": {},
   "outputs": [],
   "source": [
    "#import \n",
    "import mne\n",
    "import os\n",
    "import pandas as pd\n",
    "from mne.utils import ProgressBar\n",
    "from mne import set_log_level\n",
    "import matplotlib\n",
    "import matplotlib.pyplot as plt\n",
    "import numpy as np\n",
    "#matplotlib.use('Qt5Agg')\n",
    "import pickle"
   ]
  },
  {
   "cell_type": "markdown",
   "metadata": {},
   "source": [
    "Filter data from fif files"
   ]
  },
  {
   "cell_type": "code",
   "execution_count": 2,
   "metadata": {},
   "outputs": [],
   "source": [
    "files = [ f.path for f in os.scandir('dataset2/data/mne') if f.is_file()]"
   ]
  },
  {
   "cell_type": "code",
   "execution_count": null,
   "metadata": {},
   "outputs": [],
   "source": [
    "n_files = len(files)\n",
    "data_filtered = pd.DataFrame()\n",
    "\n",
    "# Make filtered dataset\n",
    "print(\"Filtering {n} files\".format(n=n_files))\n",
    "# Initialize a progress bar.\n",
    "progress = ProgressBar(n_files, mesg='Filtering')\n",
    "for name in files:\n",
    "    raw = mne.io.read_raw_fif(name, preload=True, verbose='error')\n",
    "    # high pass filter above 1\n",
    "    raw.filter(l_freq=1, h_freq=None, phase='zero',\n",
    "                fir_window='hamming', l_trans_bandwidth='auto',\n",
    "                h_trans_bandwidth='auto', filter_length='auto')\n",
    "    #low pass filter before 45\n",
    "    raw.filter(l_freq=None, h_freq=45, phase='zero',\n",
    "                fir_window='hamming', l_trans_bandwidth='auto',\n",
    "                h_trans_bandwidth='auto', filter_length='auto')\n",
    "    #notch filter at 50 Hz\n",
    "    raw.notch_filter(np.arange(50, 95, 50), fir_design='firwin')\n",
    "    #set eeg reference\n",
    "    raw.set_eeg_reference('average', projection=False)  \n",
    "\n",
    "    #save filtered data \n",
    "    if not os.path.exists(f'dataset2/data/filtered-ref'):\n",
    "        os.makedirs(f'dataset2/data/filtered-ref')\n",
    "    raw.save(f\"dataset2/data/filtered-ref/{os.path.basename(name)}_filtered.fif\")\n",
    "    plot_raw = raw.plot_psd()\n",
    "    plot_raw.savefig(f\"dataset2/data/filtered-ref/{os.path.basename(name)}_filtered.png\")\n",
    "    \n",
    "    temp_df = pd.DataFrame(raw._data.T, columns=raw.ch_names)\n",
    "    temp_df['subject'] = f'{os.path.basename(name)}'\n",
    "    temp_df['time'] = raw.times\n",
    "    data_filtered = data_filtered.append(temp_df, ignore_index=True)\n",
    "    progress.update_with_increment_value(1)\n",
    "\n",
    "\n",
    "#pickle dataframe\n",
    "with open('dataset2/data/filtered_ref.pkl', 'wb') as f:\n",
    "    pickle.dump(data_filtered, f)\n"
   ]
  },
  {
   "cell_type": "markdown",
   "metadata": {},
   "source": [
    "Make unfiltered dataset"
   ]
  },
  {
   "cell_type": "code",
   "execution_count": null,
   "metadata": {},
   "outputs": [],
   "source": [
    "n_files = len(files)\n",
    "data_unfiltered = pd.DataFrame()\n",
    "\n",
    "# Make unfiltered dataset\n",
    "print(\"Filtering(basic) {n} files\".format(n=n_files))\n",
    "# Initialize a progress bar.\n",
    "progress = ProgressBar(n_files, mesg='Filtering')\n",
    "for name in files:\n",
    "    raw = mne.io.read_raw_fif(name, preload=True, verbose='error')\n",
    "    # high pass filter above 0.5\n",
    "    raw.filter(l_freq=1, h_freq=None, phase='zero',\n",
    "                fir_window='hamming', l_trans_bandwidth='auto',\n",
    "                h_trans_bandwidth='auto', filter_length='auto', verbose='error')\n",
    "    #notch filter at 50 Hz\n",
    "    raw.notch_filter(np.arange(50, 95, 50), fir_design='firwin', verbose='error')\n",
    "    #set eeg reference\n",
    "    raw.set_eeg_reference('average', projection=False)  \n",
    "    if not os.path.exists(f'dataset2/data/unfiltered-ref'):\n",
    "        os.makedirs(f'dataset2/data/unfiltered-ref')\n",
    "    #save data\n",
    "    raw.save(f\"dataset2/data/unfiltered-ref/{os.path.basename(name)}_unfiltered.fif\", verbose='error')\n",
    "    plot_raw = raw.plot_psd()\n",
    "    plot_raw.savefig(f\"dataset2/data/unfiltered-ref/{os.path.basename(name)}_unfiltered.png\")\n",
    "\n",
    "    temp_df = pd.DataFrame(raw._data.T, columns=raw.ch_names)\n",
    "    temp_df['subject'] = f'{os.path.basename(name)}'\n",
    "    temp_df['time'] = raw.times\n",
    "    data_unfiltered = data_unfiltered.append(temp_df, ignore_index=True)\n",
    "    progress.update_with_increment_value(1)\n",
    "\n",
    "#pickle dataframe\n",
    "with open('dataset2/data/unfiltered_ref.pkl', 'wb') as f:\n",
    "    pickle.dump(data_unfiltered, f)"
   ]
  }
 ],
 "metadata": {
  "interpreter": {
   "hash": "c22affcd1e1629be1f7a7aa9fdeebdf48b48ff53fcb4af7a7a2c885df114cc6c"
  },
  "kernelspec": {
   "display_name": "Python 3.9.9 64-bit ('mne': conda)",
   "language": "python",
   "name": "python3"
  },
  "language_info": {
   "codemirror_mode": {
    "name": "ipython",
    "version": 3
   },
   "file_extension": ".py",
   "mimetype": "text/x-python",
   "name": "python",
   "nbconvert_exporter": "python",
   "pygments_lexer": "ipython3",
   "version": "3.9.9"
  },
  "orig_nbformat": 4
 },
 "nbformat": 4,
 "nbformat_minor": 2
}
