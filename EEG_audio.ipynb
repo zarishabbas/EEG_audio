{
 "cells": [
  {
   "cell_type": "code",
   "execution_count": 12,
   "metadata": {},
   "outputs": [],
   "source": [
    "import librosa\n",
    "from PIL import Image\n",
    "import numpy as np\n",
    "import soundfile"
   ]
  },
  {
   "cell_type": "code",
   "execution_count": 13,
   "metadata": {},
   "outputs": [],
   "source": [
    "#from tiff to wav \n",
    "m=Image.open(\"test_fig.tiff\") # open spectogram\n",
    "img=np.array(m) # convert to numpy array    \n",
    "im =Image.fromarray(img).convert('F') \n",
    "im.show()\n",
    "im.save(\"test_fig2.tiff\")\n",
    "\n",
    "# convert to mel spectrogram\n",
    "ima = librosa.feature.melspectrogram(S=np.array(im), sr=128)\n",
    "# convert spectrogram to audio using Griffin-Lim algorithm\n",
    "wav=librosa.feature.inverse.mel_to_audio(ima)"
   ]
  },
  {
   "cell_type": "code",
   "execution_count": null,
   "metadata": {},
   "outputs": [],
   "source": [
    "soundfile.write(\"test.wav\",wav,samplerate=128) # save wav file"
   ]
  }
 ],
 "metadata": {
  "interpreter": {
   "hash": "58afbb7d962e7660668faae0d1e60dd294a2e58f05a6e81a1c08b8b128b82ce1"
  },
  "kernelspec": {
   "display_name": "Python 3.8.12 64-bit ('base': conda)",
   "language": "python",
   "name": "python3"
  },
  "language_info": {
   "codemirror_mode": {
    "name": "ipython",
    "version": 3
   },
   "file_extension": ".py",
   "mimetype": "text/x-python",
   "name": "python",
   "nbconvert_exporter": "python",
   "pygments_lexer": "ipython3",
   "version": "3.8.12"
  },
  "orig_nbformat": 4
 },
 "nbformat": 4,
 "nbformat_minor": 2
}
